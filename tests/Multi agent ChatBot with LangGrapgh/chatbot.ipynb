{
  "nbformat": 4,
  "nbformat_minor": 0,
  "metadata": {
    "colab": {
      "provenance": []
    },
    "kernelspec": {
      "name": "python3",
      "display_name": "Python 3"
    },
    "language_info": {
      "name": "python"
    }
  },
  "cells": [
    {
      "cell_type": "markdown",
      "source": [
        "1. Initialize a LLM"
      ],
      "metadata": {
        "id": "HCd4rjDDJN_0"
      }
    },
    {
      "cell_type": "code",
      "execution_count": null,
      "metadata": {
        "id": "upLu5QLpJECY"
      },
      "outputs": [],
      "source": [
        "from langchain_openai import ChatOpenAI\n",
        "\n",
        "llm = ChatOpenAI(model_name=\"gpt-4o\", api_key = \"\")"
      ]
    },
    {
      "cell_type": "markdown",
      "source": [
        "2. Creating the agents"
      ],
      "metadata": {
        "id": "nZ1GLyswJR1p"
      }
    },
    {
      "cell_type": "code",
      "source": [
        "from langgraph.graph import MessagesState\n",
        "\n",
        "class State(MessagesState):\n",
        "    next: str"
      ],
      "metadata": {
        "id": "pHQjreRkJUFB"
      },
      "execution_count": null,
      "outputs": []
    },
    {
      "cell_type": "markdown",
      "source": [
        "Itinerary Agent"
      ],
      "metadata": {
        "id": "XtsK00egJXC5"
      }
    },
    {
      "cell_type": "code",
      "source": [
        "from typing import Annotated\n",
        "\n",
        "itinerary_agent_prompt = \"\"\"\n",
        "You are an expert travel planner. Your task is to create a detailed itinerary for a trip based on the information provided by the user. The itinerary should include the following details:\n",
        "- Day-by-day schedule with activities and locations\n",
        "- Suggested times for each activity\n",
        "- Recommendations for meals and restaurants\n",
        "- Transportation options between locations\n",
        "- Any special events or local attractions to consider\n",
        "- Accommodation details if provided\n",
        "Ensure the itinerary is well-organized, practical, and tailored to the user's preferences and constraints. Use a friendly and informative tone.\n",
        "\"\"\"\n",
        "\n",
        "def itinerary_agent(itinary_info: Annotated[str, \"All the itinerary information in a plain text format\"]):\n",
        "    messages = [\n",
        "        (\"system\", itinerary_agent_prompt),\n",
        "        (\"human\", {itinary_info})\n",
        "    ]\n",
        "\n",
        "    return llm.invoke(messages)"
      ],
      "metadata": {
        "id": "MDv4W6UxJWxR"
      },
      "execution_count": null,
      "outputs": []
    },
    {
      "cell_type": "markdown",
      "source": [
        "Flight Agent"
      ],
      "metadata": {
        "id": "wPY3PSCPJcuk"
      }
    },
    {
      "cell_type": "code",
      "source": [
        "from typing import Annotated, Literal, Optional\n",
        "from typing_extensions import TypedDict\n",
        "from serpapi import GoogleSearch\n",
        "from langchain.prompts import ChatPromptTemplate\n",
        "from langchain_core.tools import tool\n",
        "\n",
        "flight_agent_prompt = \"\"\"\n",
        "You are an expert at extracting information out of plain text. The response should be in JSON format.\n",
        "You need to extract the following parameters:\n",
        "- departure_id - city/airport IATA code from which the traveler will depart, e.g. BOS for Boston\n",
        "- arrival_id - city/airport IATA code from which the traveler is going, e.g. BOS for Boston\n",
        "- outbound_date - the date on which the traveler will depart from the origin to go to the destination. Dates are specified in the ISO 8601 YYYY-MM-DD format, e.g. 2017-12-25\n",
        "- return_date - the date on which the traveller will return from the destination back to the origin. Date is specified in the ISO 8601 YYYY-MM-DD format\n",
        "\"\"\"\n",
        "\n",
        "class Flight_parameters(TypedDict):\n",
        "    departure_id: Annotated[str, ..., \"city/airport IATA code from which the traveler will depart, e.g. BOS for Boston\"]\n",
        "    arrival_id: Annotated[str, ..., \"city/airport IATA code from which the traveler is going, e.g. BOS for Boston\"]\n",
        "    outbound_date: Annotated[str, ..., \"the date on which the traveler will depart from the origin to go to the destination. Dates are specified in the ISO 8601 YYYY-MM-DD format, e.g. 2017-12-25\"]\n",
        "    return_date: Annotated[Optional[str], None, \"the date on which the traveller will return from the destination back to the origin. Date is specified in the ISO 8601 YYYY-MM-DD format\"]\n",
        "\n",
        "flight_prompt = ChatPromptTemplate.from_messages([('system', flight_agent_prompt), ('human', '{input}')])\n",
        "structured_llm_flight = flight_prompt | llm.with_structured_output(Flight_parameters)\n",
        "\n",
        "@tool\n",
        "def flight_tool(parameters: Annotated[str,\"All the flight parameters in a plain text format\"]):\n",
        "    \"\"\"\n",
        "    Get the list of available flights based on users' requirements.\n",
        "    Parameters:\n",
        "        query (str): User's flight requirements as natural language input.\n",
        "    Returns:\n",
        "        str: A human-readable response with flight offers or an error message.\n",
        "    \"\"\"\n",
        "    flight_parameters = structured_llm_flight.invoke({'input': parameters})\n",
        "    flight_parameters['engine'] = 'google_flights'\n",
        "    flight_parameters['currencyCode'] = 'USD'\n",
        "    flight_parameters['hl'] = 'en'\n",
        "    flight_parameters['api_key'] = ''\n",
        "\n",
        "    search = GoogleSearch(flight_parameters)\n",
        "    results = search.get_dict()\n",
        "    return json.dumps(results)"
      ],
      "metadata": {
        "id": "w8BrYGGeJeuO"
      },
      "execution_count": null,
      "outputs": []
    },
    {
      "cell_type": "code",
      "source": [
        "from langgraph.graph import create_react_agent\n",
        "\n",
        "flight_agent = create_react_agent(\n",
        "    llm,\n",
        "    tools=[flight_tool],\n",
        "    prompt=\"\"\"\n",
        "        You are a flight agent. You are responsible for finding the best flights for the user. Analyze the user's requirements and the tool response and return a few of the best flight information.\n",
        "    \"\"\"\n",
        ")"
      ],
      "metadata": {
        "id": "HNb5G3XIJjIi"
      },
      "execution_count": null,
      "outputs": []
    },
    {
      "cell_type": "markdown",
      "source": [
        "3. Creating the Supervising Chatbot"
      ],
      "metadata": {
        "id": "AIO-yo44Jh2E"
      }
    },
    {
      "cell_type": "code",
      "source": [
        "from langgraph.graph import END\n",
        "from langgraph.types import Command\n",
        "from typing_extensions import TypedDict\n",
        "from typing import Literal\n",
        "\n",
        "chatbot_prompt = \"\"\"\n",
        "You are a dedicated travel planning chatbot designed to create personalized and well-organized trip itineraries based on user preferences and constraints.\n",
        "Your Responsibilities:\n",
        "1. Greeting & Introduction: Start by greeting the user and explaining that you're here to help plan their trip. Inform them what task you can help them with.\n",
        "    Currently you can help them with 1. flight information and 2. itinerary planning\n",
        "2. Gather Preferences & Constraints: Ask the user about their travel preferences, such as destinations, budget, duration, interests (e.g., adventure, relaxation, culture), and any constraints (e.g., dietary restrictions, mobility issues).\n",
        "3. Information Collection: Inquire about specific details that is required for each agent as follows -\n",
        "    - flight_agent: Departure and arrival city/airport IATA code, departure and return date.\n",
        "    - itinerary_agent: preferred activities, types of accommodations, transportation preferences, and meal preferences.\n",
        "    If any information is missing, ask the user for the missing information. Only move on to routing once the user has provided all the information.\n",
        "4. Agent Routing: Based on the collected information, determine which agent to route the user to:\n",
        "    - itinerary_agent: If sufficient trip-related information is provided or if the user asks you to come up with the rest of the information.\n",
        "    - flight_agent: If the user asks for flight information.\n",
        "    - human_interrupt: This is the user itself and not an expert agent. Only give response that are crafted by you or any request for additional information.\n",
        "5. Response Handling:\n",
        "    - Structured Output: Ensure all responses are in JSON format with the keys:\n",
        "        - `next`: The next agent to route to (`itinerary_agent`, `human_interrupt`, or `FINISH`).\n",
        "        - `messages`: Any messages to send to the user.\n",
        "    - Information Validation: If any required information is missing or incomplete, gather more information from the user.\n",
        "6. Finalization: Once the itinerary is complete, ask the user if they would like to add anything else. If not, respond with `\"FINISH\"` in the next key to conclude the interaction. NEVER END THE CONVERSATION WITH THE USER BEFORE THEY EXPLICITLY SAY TO END THE CONVERSATION.\n",
        "Communication Style:\n",
        "- Use a friendly, clear, and informative tone.\n",
        "- Ensure all questions are concise and easy to understand.\n",
        "- Make the user feel supported and assured throughout the planning process.\n",
        "- When you are done with the itinerary, always route to human_interrupt agent.\n",
        "Example Workflow:\n",
        "1. Chatbot: \"Hello! I'm here to help you plan your perfect trip. Could you please share your preferred destinations and travel dates?\"\n",
        "2. User: [Provides information]\n",
        "3. Chatbot: [Routes to `itinerary_agent` with collected information]\n",
        "4. itinerary_agent: [Creates itinerary]\n",
        "5. Chatbot: \"Here's your personalized itinerary! Here is the itinerary. Would you like to add anything else?\"\n",
        "6. User: \"No, that's all. Thank you!\"\n",
        "7. Chatbot: `\"FINISH\"`\n",
        "Ensure seamless and natural interactions while effectively gathering all necessary information to create a comprehensive trip itinerary.\n",
        "\"\"\"\n",
        "\n",
        "class Router(TypedDict):\n",
        "    \"\"\"Worker to route to next. If no workers needed, route to FINISH.\"\"\"\n",
        "\n",
        "    next: Literal['itinerary_agent', 'human_interrupt', 'FINISH']\n",
        "    messages: str\n",
        "\n",
        "def chatbot_node(state: State) -> Command[Literal['itinerary_agent', 'human_interrupt', 'flight_agent', \"__end__\"]]:\n",
        "    messages = [\n",
        "        {\"role\": \"system\", \"content\": chatbot_prompt},\n",
        "    ] + state[\"messages\"]\n",
        "\n",
        "    response = llm.with_structured_output(Router).invoke(messages)\n",
        "\n",
        "    goto = response[\"next\"]\n",
        "    if goto == \"FINISH\":\n",
        "        goto = END\n",
        "\n",
        "    return Command(goto=goto, update={\"next\": goto, \"messages\": response[\"messages\"]})"
      ],
      "metadata": {
        "id": "qa58MC0rJoNV"
      },
      "execution_count": null,
      "outputs": []
    },
    {
      "cell_type": "markdown",
      "source": [
        "4. Creating the Agent Nodes"
      ],
      "metadata": {
        "id": "nHR1SAsmJrc9"
      }
    },
    {
      "cell_type": "code",
      "source": [
        "from langgraph.graph import Command\n",
        "from langchain_core.prompts.chat import HumanMessage\n",
        "from typing_extensions import Literal\n",
        "\n",
        "def itinerary_node(state: State) -> Command[Literal['chatbot']]:\n",
        "    # Convert the state messages to a list of strings\n",
        "    human_messages = [msg.content for msg in state['messages'] if isinstance(msg, HumanMessage)]\n",
        "\n",
        "    messages = [\n",
        "        (\"system\", itinerary_agent_prompt),\n",
        "        (\"human\", \" \".join(human_messages))  # Join all human messages into a single string\n",
        "    ]\n",
        "\n",
        "    response = llm.invoke(messages)\n",
        "\n",
        "    return Command(goto='chatbot', update={\"messages\": [response.content]})\n",
        "\n",
        "def flight_node(state: State) -> Command[Literal['chatbot']]:\n",
        "    result = flight_agent.invoke(state)\n",
        "    return Command(\n",
        "        update={\n",
        "            \"messages\": [result[\"messages\"][-1].content]\n",
        "        },\n",
        "        goto=\"chatbot\",\n",
        "    )"
      ],
      "metadata": {
        "id": "WJjZzkCxJth1"
      },
      "execution_count": null,
      "outputs": []
    },
    {
      "cell_type": "markdown",
      "source": [
        "5. Setting up Human Input"
      ],
      "metadata": {
        "id": "4Jjo7x72Jway"
      }
    },
    {
      "cell_type": "code",
      "source": [
        "from langgraph.graph import Command\n",
        "from typing import Literal\n",
        "\n",
        "def human_interrupt(state: State) -> Command[Literal['chatbot']]:\n",
        "\n",
        "    query = state['messages'][-1].content\n",
        "\n",
        "    user_input = input(\"user: \")\n",
        "\n",
        "    return Command(goto='chatbot', update={\"messages\": [user_input]})"
      ],
      "metadata": {
        "id": "v4WqykKUJyIv"
      },
      "execution_count": null,
      "outputs": []
    },
    {
      "cell_type": "markdown",
      "source": [
        "6. Building the StateGraph"
      ],
      "metadata": {
        "id": "gP3WB7AcJ0ht"
      }
    },
    {
      "cell_type": "code",
      "source": [
        "from langgraph.graph import StateGraph, START\n",
        "\n",
        "if __name__ == \"__main__\":\n",
        "    builder = StateGraph(State)\n",
        "    builder.add_edge(START, \"chatbot\")\n",
        "    builder.add_node(\"chatbot\", chatbot_node)\n",
        "    builder.add_node(\"itinerary_agent\", itinerary_node)\n",
        "    builder.add_node(\"flight_agent\", flight_node)\n",
        "    builder.add_node(\"human_interrupt\", human_interrupt)\n",
        "\n",
        "    graph = builder.compile()"
      ],
      "metadata": {
        "id": "Jf2AR-b_J30K"
      },
      "execution_count": null,
      "outputs": []
    },
    {
      "cell_type": "markdown",
      "source": [
        "7. Running the Chatbot"
      ],
      "metadata": {
        "id": "JdG302OvJ6r8"
      }
    },
    {
      "cell_type": "code",
      "source": [
        "for s in graph.stream({\"messages\": [(\"user\", \"Hi\")]}, subgraphs=True):\n",
        "        for key, value in s[1].items():\n",
        "            if key in ['chatbot', 'itinerary_agent', 'flight_agent']:\n",
        "                print(value['messages'])\n",
        "        print(\"----\")"
      ],
      "metadata": {
        "id": "cLKTJH9UKC4L"
      },
      "execution_count": null,
      "outputs": []
    }
  ]
}