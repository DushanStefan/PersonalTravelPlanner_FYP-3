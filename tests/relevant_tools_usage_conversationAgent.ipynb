{
  "cells": [
    {
      "cell_type": "code",
      "execution_count": null,
      "metadata": {
        "id": "gKlg9fQFnct7",
        "colab": {
          "base_uri": "https://localhost:8080/"
        },
        "outputId": "bf6bd9c5-a28f-4a6c-9514-a8a510fa2afa"
      },
      "outputs": [
        {
          "output_type": "stream",
          "name": "stdout",
          "text": [
            "\u001b[?25l   \u001b[90m━━━━━━━━━━━━━━━━━━━━━━━━━━━━━━━━━━━━━━━━\u001b[0m \u001b[32m0.0/54.4 kB\u001b[0m \u001b[31m?\u001b[0m eta \u001b[36m-:--:--\u001b[0m\r\u001b[2K   \u001b[91m━━━━━━━━━━━━━━━━━━━━━━━━━━━━━━━━━━━━━\u001b[0m\u001b[91m╸\u001b[0m\u001b[90m━━\u001b[0m \u001b[32m51.2/54.4 kB\u001b[0m \u001b[31m3.3 MB/s\u001b[0m eta \u001b[36m0:00:01\u001b[0m\r\u001b[2K   \u001b[90m━━━━━━━━━━━━━━━━━━━━━━━━━━━━━━━━━━━━━━━━\u001b[0m \u001b[32m54.4/54.4 kB\u001b[0m \u001b[31m1.2 MB/s\u001b[0m eta \u001b[36m0:00:00\u001b[0m\n",
            "\u001b[2K   \u001b[90m━━━━━━━━━━━━━━━━━━━━━━━━━━━━━━━━━━━━━━━━\u001b[0m \u001b[32m1.2/1.2 MB\u001b[0m \u001b[31m20.6 MB/s\u001b[0m eta \u001b[36m0:00:00\u001b[0m\n",
            "\u001b[2K   \u001b[90m━━━━━━━━━━━━━━━━━━━━━━━━━━━━━━━━━━━━━━━━\u001b[0m \u001b[32m2.5/2.5 MB\u001b[0m \u001b[31m30.7 MB/s\u001b[0m eta \u001b[36m0:00:00\u001b[0m\n",
            "\u001b[2K   \u001b[90m━━━━━━━━━━━━━━━━━━━━━━━━━━━━━━━━━━━━━━━━\u001b[0m \u001b[32m50.8/50.8 kB\u001b[0m \u001b[31m4.4 MB/s\u001b[0m eta \u001b[36m0:00:00\u001b[0m\n",
            "\u001b[2K   \u001b[90m━━━━━━━━━━━━━━━━━━━━━━━━━━━━━━━━━━━━━━━━\u001b[0m \u001b[32m3.3/3.3 MB\u001b[0m \u001b[31m35.0 MB/s\u001b[0m eta \u001b[36m0:00:00\u001b[0m\n",
            "\u001b[2K   \u001b[90m━━━━━━━━━━━━━━━━━━━━━━━━━━━━━━━━━━━━━━━━\u001b[0m \u001b[32m4.5/4.5 MB\u001b[0m \u001b[31m34.7 MB/s\u001b[0m eta \u001b[36m0:00:00\u001b[0m\n",
            "\u001b[?25h"
          ]
        }
      ],
      "source": [
        "# Install the necessary packages\n",
        "!pip install langchain -qU\n",
        "!pip install langchain-openai -qU\n",
        "!pip install langchain-community -qU\n",
        "\n",
        "!pip install duckduckgo-search -qU\n",
        "!pip install pyowm -qU\n",
        "\n",
        "!pip install langchainhub -qU"
      ]
    },
    {
      "cell_type": "code",
      "execution_count": null,
      "metadata": {
        "colab": {
          "base_uri": "https://localhost:8080/"
        },
        "id": "Vbl8yK9ynyXd",
        "outputId": "29707634-2385-46b2-d9a6-5518dc898afc"
      },
      "outputs": [
        {
          "output_type": "stream",
          "name": "stdout",
          "text": [
            "Prompt saved to 'prompt_template.txt' with improved readability.\n"
          ]
        },
        {
          "output_type": "stream",
          "name": "stderr",
          "text": [
            "/usr/local/lib/python3.11/dist-packages/langsmith/client.py:253: LangSmithMissingAPIKeyWarning: API key must be provided when using hosted LangSmith API\n",
            "  warnings.warn(\n"
          ]
        }
      ],
      "source": [
        "from langchain import hub  # Pull the prompt template from LangChainHub\n",
        "\n",
        "# Fetch the prompt template\n",
        "prompt = hub.pull(\"hwchase17/react\")\n",
        "\n",
        "# Convert the prompt template to a string\n",
        "prompt_str = str(prompt)\n",
        "\n",
        "# Split the prompt string into multiple lines for better readability\n",
        "formatted_prompt = \"\\n\".join([prompt_str[i:i+80] for i in range(0, len(prompt_str), 80)])\n",
        "\n",
        "# Save the formatted prompt string to a text file\n",
        "with open(\"prompt_template.txt\", \"w\") as file:\n",
        "    file.write(formatted_prompt)\n",
        "\n",
        "print(\"Prompt saved to 'prompt_template.txt' with improved readability.\")\n"
      ]
    },
    {
      "cell_type": "code",
      "execution_count": null,
      "metadata": {
        "id": "AmpMF5w_yUc3"
      },
      "outputs": [],
      "source": [
        "import os\n",
        "from google.colab import userdata"
      ]
    },
    {
      "cell_type": "code",
      "execution_count": null,
      "metadata": {
        "id": "pnBVFFxbw0_q"
      },
      "outputs": [],
      "source": [
        "from langchain_openai import ChatOpenAI\n",
        "\n",
        "# Set OpenAI API key\n",
        "os.environ['OPENAI_API_KEY'] = userdata.get('OPENAI_API_KEY')\n",
        "\n",
        "# Initialize the ChatOpenAI model\n",
        "llm = ChatOpenAI(\n",
        "    model=\"gpt-4o-mini\",\n",
        "    temperature=0\n",
        ")"
      ]
    },
    {
      "cell_type": "markdown",
      "metadata": {
        "id": "05kNloiyw1hF"
      },
      "source": []
    },
    {
      "cell_type": "code",
      "execution_count": null,
      "metadata": {
        "colab": {
          "base_uri": "https://localhost:8080/"
        },
        "id": "SCcExEuax-6Z",
        "outputId": "8ce1efbf-3f2a-48a5-fe94-f234a3c7502e"
      },
      "outputs": [
        {
          "output_type": "execute_result",
          "data": {
            "text/plain": [
              "DuckDuckGoSearchRun(api_wrapper=DuckDuckGoSearchAPIWrapper(region='wt-wt', safesearch='moderate', time='y', max_results=5, backend='auto', source='text'))"
            ]
          },
          "metadata": {},
          "execution_count": 5
        }
      ],
      "source": [
        "from langchain_community.tools import DuckDuckGoSearchRun\n",
        "\n",
        "# Initialize DuckDuckGo search tool\n",
        "search_tool = DuckDuckGoSearchRun()\n",
        "\n",
        "search_tool"
      ]
    },
    {
      "cell_type": "code",
      "execution_count": null,
      "metadata": {
        "colab": {
          "base_uri": "https://localhost:8080/"
        },
        "id": "MRqE2iMHye57",
        "outputId": "0134c999-5831-4a6e-e0c3-eb7899a8db12"
      },
      "outputs": [
        {
          "output_type": "execute_result",
          "data": {
            "text/plain": [
              "OpenWeatherMapQueryRun(api_wrapper=OpenWeatherMapAPIWrapper(owm=<pyowm.owm.OWM - API key=************************5d2ee3f8, subscription type=free, PyOWM version=(3, 3, 0)>, openweathermap_api_key=None))"
            ]
          },
          "metadata": {},
          "execution_count": 6
        }
      ],
      "source": [
        "from langchain_community.utilities import OpenWeatherMapAPIWrapper\n",
        "from langchain.agents import load_tools\n",
        "\n",
        "os.environ[\"OPENWEATHERMAP_API_KEY\"] = userdata.get('OPENWEATHERMAP_API_KEY')\n",
        "\n",
        "# Initialize OpenWeatherMap tool\n",
        "weather = OpenWeatherMapAPIWrapper()\n",
        "\n",
        "weather_tool = load_tools([\"openweathermap-api\"], llm)[0]\n",
        "\n",
        "weather_tool\n"
      ]
    },
    {
      "cell_type": "code",
      "execution_count": null,
      "metadata": {
        "id": "AvPiWYG606ne"
      },
      "outputs": [],
      "source": [
        "from langchain.agents import create_react_agent\n",
        "\n",
        "# List of tools for the agent\n",
        "tools = [search_tool, weather_tool]\n",
        "\n",
        "# Create the agent using the LLM and the prompt template\n",
        "agent = create_react_agent(tools = tools, llm = llm, prompt=prompt)"
      ]
    },
    {
      "cell_type": "code",
      "execution_count": null,
      "metadata": {
        "id": "I6KYvpPa1Ikz"
      },
      "outputs": [],
      "source": [
        "from langchain.agents import AgentExecutor\n",
        "\n",
        "# Initialize the agent executor with the created agent and tools\n",
        "agent_executor = AgentExecutor(agent=agent, tools=tools, verbose=True, handle_parsing_errors=True)\n"
      ]
    },
    {
      "cell_type": "code",
      "execution_count": null,
      "metadata": {
        "id": "hEccEqvf1RrB"
      },
      "outputs": [],
      "source": [
        "from langchain.agents import tool\n",
        "\n",
        "@tool\n",
        "def word_count(text: str) -> int:\n",
        "  \"\"\"Returns the word count.\"\"\"\n",
        "  return len(text.split())"
      ]
    },
    {
      "cell_type": "code",
      "execution_count": null,
      "metadata": {
        "id": "L8ICVCTI1VaP"
      },
      "outputs": [],
      "source": [
        "# Add the custom tool to the list of tools\n",
        "tools.append(word_count)"
      ]
    },
    {
      "cell_type": "code",
      "execution_count": null,
      "metadata": {
        "id": "oU1Xx9Of1-Uy"
      },
      "outputs": [],
      "source": [
        "import pandas as pd\n",
        "from langchain.tools import tool\n",
        "\n",
        "@tool\n",
        "def flight(origin: str, destination: str) -> str:\n",
        "    \"\"\"\n",
        "      Description: A flight information retrieval tool.\n",
        "      Parameters:\n",
        "      origin: The city you'll be flying out from.\n",
        "      destination: The city you aim to reach.\n",
        "      Example: FlightSearch[New York, London] would fetch flights from New York to London .\n",
        "    \"\"\"\n",
        "\n",
        "    # Path to your CSV file\n",
        "    path = \"/content/clean_Flights_2022.csv\"\n",
        "\n",
        "    # Load the flight data\n",
        "    data = pd.read_csv(path).dropna()[[\n",
        "        'Flight Number', 'Price', 'DepTime', 'ArrTime', 'ActualElapsedTime',\n",
        "        'FlightDate', 'OriginCityName', 'DestCityName', 'Distance'\n",
        "    ]]\n",
        "\n",
        "    # Filter the data based on input parameters\n",
        "    results = data[\n",
        "        (data[\"OriginCityName\"] == origin) &\n",
        "        (data[\"DestCityName\"] == destination)\n",
        "    ]\n",
        "\n",
        "    # If no flights are found, return a message\n",
        "    if results.empty:\n",
        "        return f\"There are no flights from {origin} to {destination} .\"\n",
        "\n",
        "    # Format the results into a readable string\n",
        "    formatted_results = results.to_string(index=False)\n",
        "    return f\"Available flights:\\n{formatted_results}\"\n",
        "\n"
      ]
    },
    {
      "cell_type": "code",
      "execution_count": null,
      "metadata": {
        "id": "oaaQFBejg3n7"
      },
      "outputs": [],
      "source": [
        "import pandas as pd\n",
        "from langchain.tools import tool\n",
        "\n",
        "@tool\n",
        "def flight(origin: str, destination: str) -> str:\n",
        "    \"\"\"\n",
        "    Search for flights by origin, destination, and departure date from a CSV file.\n",
        "\n",
        "    Parameters:\n",
        "    - origin (str): The origin city name.\n",
        "    - destination (str): The destination city name.\n",
        "\n",
        "\n",
        "    Returns:\n",
        "    - Union[str, DataFrame]: Returns a DataFrame with flight details or a string if no flights are found.\n",
        "    \"\"\"\n",
        "\n",
        "    # Path to your CSV file\n",
        "    path = \"/content/clean_Flights_2022.csv\"\n",
        "\n",
        "    # Load the flight data\n",
        "    data = pd.read_csv(path).dropna()[[\n",
        "        'Flight Number', 'Price', 'DepTime', 'ArrTime', 'ActualElapsedTime',\n",
        "        'FlightDate', 'OriginCityName', 'DestCityName', 'Distance'\n",
        "    ]]\n",
        "\n",
        "    # Filter the data based on input parameters\n",
        "    results = data[\n",
        "        (data[\"OriginCityName\"] == origin) &\n",
        "        (data[\"DestCityName\"] == destination)\n",
        "    ]\n",
        "\n",
        "    # If no flights are found, return a message\n",
        "    if results.empty:\n",
        "        return f\"There are no flights from {origin} to {destination} .\"\n",
        "\n",
        "    # Format the results into a readable string\n",
        "    formatted_results = results.to_string(index=False)\n",
        "    return f\"Available flights:\\n{formatted_results}\"\n",
        "\n"
      ]
    },
    {
      "cell_type": "code",
      "execution_count": null,
      "metadata": {
        "id": "FCJ2fOnP8sQw"
      },
      "outputs": [],
      "source": [
        "# Add the custom tool to the list of tools\n",
        "tools.append(flight)"
      ]
    },
    {
      "cell_type": "code",
      "execution_count": null,
      "metadata": {
        "id": "8bdpmG3L8_zy"
      },
      "outputs": [],
      "source": [
        "# Create a new agent with the DuckDuckGo search tool, OpenWeatherMap tool  and custom word count tool\n",
        "agent = create_react_agent(tools = tools, llm = llm, prompt=prompt)\n",
        "\n",
        "# Initialize the agent executor with the new agent and tools\n",
        "agent_executor = AgentExecutor(agent=agent, tools=tools, verbose=True, handle_parsing_errors=True)\n"
      ]
    },
    {
      "cell_type": "code",
      "execution_count": null,
      "metadata": {
        "colab": {
          "base_uri": "https://localhost:8080/"
        },
        "id": "GRB94BVc9E_8",
        "outputId": "edfae341-b2fa-4ce3-a02d-a1604174ca78"
      },
      "outputs": [
        {
          "output_type": "stream",
          "name": "stdout",
          "text": [
            "\n",
            "\n",
            "\u001b[1m> Entering new AgentExecutor chain...\u001b[0m\n",
            "\u001b[32;1m\u001b[1;3mI need to determine the word count of the given text. \n",
            "Action: word_count\n",
            "Action Input: 'dushan fernando'\u001b[0m\u001b[38;5;200m\u001b[1;3m2\u001b[0m\u001b[32;1m\u001b[1;3mI now know the final answer\n",
            "Final Answer: 2\u001b[0m\n",
            "\n",
            "\u001b[1m> Finished chain.\u001b[0m\n",
            "2\n"
          ]
        }
      ],
      "source": [
        "response = agent_executor.invoke({\"input\": \"what is the word count of 'dushan fernando'\"})\n",
        "\n",
        "print(response['output'])"
      ]
    },
    {
      "cell_type": "code",
      "source": [],
      "metadata": {
        "id": "gfkCdGLfgQ_f"
      },
      "execution_count": null,
      "outputs": []
    },
    {
      "cell_type": "code",
      "execution_count": null,
      "metadata": {
        "id": "nTfggitLGmhV"
      },
      "outputs": [],
      "source": [
        "from google.colab import drive\n",
        "drive.mount('/content/drive')"
      ]
    },
    {
      "cell_type": "code",
      "execution_count": null,
      "metadata": {
        "colab": {
          "base_uri": "https://localhost:8080/",
          "height": 146
        },
        "id": "9PNI34T4WAI9",
        "outputId": "37ec98b5-5fa3-4edd-8111-05c1f2c40e95"
      },
      "outputs": [
        {
          "ename": "NameError",
          "evalue": "name 'data' is not defined",
          "output_type": "error",
          "traceback": [
            "\u001b[0;31m---------------------------------------------------------------------------\u001b[0m",
            "\u001b[0;31mNameError\u001b[0m                                 Traceback (most recent call last)",
            "\u001b[0;32m<ipython-input-99-c5d84736ba45>\u001b[0m in \u001b[0;36m<cell line: 0>\u001b[0;34m()\u001b[0m\n\u001b[0;32m----> 1\u001b[0;31m \u001b[0mdata\u001b[0m\u001b[0;34m\u001b[0m\u001b[0;34m\u001b[0m\u001b[0m\n\u001b[0m",
            "\u001b[0;31mNameError\u001b[0m: name 'data' is not defined"
          ]
        }
      ],
      "source": [
        "data"
      ]
    },
    {
      "cell_type": "code",
      "execution_count": null,
      "metadata": {
        "colab": {
          "base_uri": "https://localhost:8080/",
          "height": 36
        },
        "id": "F2wUEQQhWRzz",
        "outputId": "16ca98dc-a551-4203-af3f-fb696e1c33e0"
      },
      "outputs": [
        {
          "data": {
            "application/vnd.google.colaboratory.intrinsic+json": {
              "type": "string"
            },
            "text/plain": [
              "'There are no flights from durango to Denver .'"
            ]
          },
          "execution_count": 136,
          "metadata": {},
          "output_type": "execute_result"
        }
      ],
      "source": [
        "def u(origin: str, destination: str):\n",
        "    try:\n",
        "          # Path to your CSV file\n",
        "          path = \"/content/clean_Flights_2022.csv\"\n",
        "\n",
        "          # Load the flight data\n",
        "          data = pd.read_csv(path).dropna()[[\n",
        "              'Flight Number', 'Price', 'DepTime', 'ArrTime', 'ActualElapsedTime',\n",
        "              'FlightDate', 'OriginCityName', 'DestCityName', 'Distance'\n",
        "          ]]\n",
        "\n",
        "          # Filter the data based on input parameters\n",
        "          results = data[\n",
        "              (data[\"OriginCityName\"] == origin) &\n",
        "              (data[\"DestCityName\"] == destination)\n",
        "              # (data[\"FlightDate\"] == departure_date)\n",
        "          ]\n",
        "\n",
        "          # If no flights are found, return a message\n",
        "          if results.empty:\n",
        "              return f\"There are no flights from {origin} to {destination} .\"\n",
        "\n",
        "          # Format the results into a readable string\n",
        "          formatted_results = results.to_string(index=False)\n",
        "          return f\"Available flights:\\n{formatted_results}\"\n",
        "\n",
        "    except FileNotFoundError:\n",
        "          return \"Flight database file not found. Please ensure the file exists at the specified path.\"\n",
        "    except Exception as e:\n",
        "          return f\"An error occurred while searching for flights: {e}\"\n",
        "\n",
        "u(\"durango\",\"Denver\")"
      ]
    }
  ],
  "metadata": {
    "colab": {
      "provenance": []
    },
    "kernelspec": {
      "display_name": "Python 3",
      "name": "python3"
    },
    "language_info": {
      "name": "python"
    }
  },
  "nbformat": 4,
  "nbformat_minor": 0
}